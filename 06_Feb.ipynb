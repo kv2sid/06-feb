{
 "cells": [
  {
   "cell_type": "markdown",
   "id": "46c10e4e-cec2-4bf0-8c54-f25a67b8f689",
   "metadata": {},
   "source": [
    "Q1. Create a function which will take a list as an argument and return the product of all the numbers\n",
    "after creating a flat list.\n",
    "Use the below-given list as an argument for your function.\n",
    "list1 = [1,2,3,4, [44,55,66, True], False, (34,56,78,89,34), {1,2,3,3,2,1}, {1:34, \"key2\": [55, 67, 78, 89], 4: (45,\n",
    "22, 61, 34)}, [56, 'data science'], 'Machine Learning']"
   ]
  },
  {
   "cell_type": "code",
   "execution_count": 14,
   "id": "ba60e8c9-a456-48ae-a7bd-4dfe6bbe9fe3",
   "metadata": {},
   "outputs": [
    {
     "name": "stdout",
     "output_type": "stream",
     "text": [
      "[1, 2, 3, 4, 44, 55, 66, True, False, 34, 56, 78, 89, 34, 1, 2, 3, 1, 'key2', 4, 56, 'data science', 'Machine Learning']\n",
      "1 2 6 24 1056 58080 3833280 130331520 7298565120 569288079360 50666639063040 1722665728143360 1722665728143360 3445331456286720 10335994368860160 10335994368860160 41343977475440640 2315262738624675840 "
     ]
    }
   ],
   "source": [
    "list1 = [1,2,3,4, [44,55,66, True], False, (34,56,78,89,34), {1,2,3,3,2,1}, {1:34, \"key2\": [55, 67, 78, 89], 4: (45,\n",
    "22, 61, 34)}, [56, 'data science'], 'Machine Learning']\n",
    "\n",
    "def list2():\n",
    "    flat_lst = []\n",
    "    for item in list1:\n",
    "        if type(item) == list or type(item) == tuple or type(item) == set or type(item) == dict:\n",
    "            flat_lst.extend(item)\n",
    "        else:\n",
    "            flat_lst.append(item)\n",
    "    return flat_lst\n",
    "print(list2())\n",
    "\n",
    "product_of_numbers = 1\n",
    "for i in list2():\n",
    "    if type(i) == int or type(i) == float:\n",
    "        product_of_numbers = product_of_numbers*i\n",
    "        print(product_of_numbers, end =' ')\n"
   ]
  },
  {
   "cell_type": "markdown",
   "id": "ea5f90eb-6163-468b-8fb3-8aac0a75ed1f",
   "metadata": {},
   "source": [
    "Q2. Write a python program for encrypting a message sent to you by your friend. The logic of encryption\n",
    "should be such that, for a the output should be z. For b, the output should be y. For c, the output should\n",
    "be x respectively. Also, the whitespace should be replaced with a dollar sign. Keep the punctuation\n",
    "marks unchanged.\n",
    "Input Sentence: I want to become a Data Scientist.\n",
    "Encrypt the above input sentence using the program you just created.\n",
    "Note: Convert the given input sentence into lowercase before encrypting. The final output should be\n",
    "lowercase.\n"
   ]
  },
  {
   "cell_type": "code",
   "execution_count": null,
   "id": "e35f7eeb-17a6-4887-932c-c8a697e87dac",
   "metadata": {},
   "outputs": [],
   "source": [
    "# Input Sentence: I want to become a Data Scientist."
   ]
  },
  {
   "cell_type": "code",
   "execution_count": null,
   "id": "15c56e4c-1d72-43af-a772-1b0161ba5e33",
   "metadata": {},
   "outputs": [],
   "source": []
  },
  {
   "cell_type": "code",
   "execution_count": null,
   "id": "e6df8b47-5dd0-427a-8674-870e0667ea14",
   "metadata": {},
   "outputs": [],
   "source": [
    "def trans(string):\n",
    "    x = string.translate(str.maketrans('abcdefghijklmnopqrstuvwxyz','zyxwvutsrqponmlkjihgfedcba'))\n",
    "    y = x.translate(str.maketrans('abcdefghijklmnopqrstuvwxyz'.upper(),'zyxwvutsrqponmlkjihgfedcba'.upper()))\n",
    "    \n",
    "    return y\n",
    "    \n",
    "    \n",
    "string = input('please enter your sentence :')\n",
    "dol = '$'\n",
    "string = string.replace(' ',dol)\n",
    "print('The code word :', trans(string))"
   ]
  },
  {
   "cell_type": "code",
   "execution_count": 37,
   "id": "bd66086a-d57b-4686-bc81-4499f3906f75",
   "metadata": {},
   "outputs": [
    {
     "name": "stdout",
     "output_type": "stream",
     "text": [
      "s$k\n"
     ]
    }
   ],
   "source": []
  },
  {
   "cell_type": "code",
   "execution_count": null,
   "id": "b338187f-38cf-43b0-9a0a-e51fee839e43",
   "metadata": {},
   "outputs": [],
   "source": []
  }
 ],
 "metadata": {
  "kernelspec": {
   "display_name": "Python 3 (ipykernel)",
   "language": "python",
   "name": "python3"
  },
  "language_info": {
   "codemirror_mode": {
    "name": "ipython",
    "version": 3
   },
   "file_extension": ".py",
   "mimetype": "text/x-python",
   "name": "python",
   "nbconvert_exporter": "python",
   "pygments_lexer": "ipython3",
   "version": "3.10.8"
  }
 },
 "nbformat": 4,
 "nbformat_minor": 5
}
